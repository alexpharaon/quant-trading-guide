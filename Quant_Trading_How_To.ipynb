{
  "nbformat": 4,
  "nbformat_minor": 0,
  "metadata": {
    "colab": {
      "name": "Quant Trading How To.ipynb",
      "provenance": [],
      "collapsed_sections": []
    },
    "kernelspec": {
      "name": "python3",
      "display_name": "Python 3"
    },
    "language_info": {
      "name": "python"
    }
  },
  "cells": [
    {
      "cell_type": "markdown",
      "source": [
        "# Introduction"
      ],
      "metadata": {
        "id": "54M0W5JwzYWZ"
      }
    },
    {
      "cell_type": "markdown",
      "source": [
        "**Hello! This quick guide will cover 6 important topics to get started Quant Trading:**\n",
        "\n",
        "1.   How to get stock data\n",
        "2.   How to clean your data\n",
        "3.   How to plot price data\n",
        "4.   How to backtest\n",
        "5.   How to calculate your Sharpe ratio\n",
        "6.   How to calculate your max drawdown\n",
        "\n",
        "Feel free to only read the sections you need help with :D"
      ],
      "metadata": {
        "id": "-MsR4Y2r019w"
      }
    },
    {
      "cell_type": "markdown",
      "source": [
        "# 1. How to get stock data"
      ],
      "metadata": {
        "id": "YDw0zTcD1Rqk"
      }
    },
    {
      "cell_type": "markdown",
      "source": [
        "**I recommend getting your stock data from Yahoo Finance using the `yfinance` API if you are a beginner as it is free.**\n",
        "\n",
        "To use it, first install it using pip. If you are using an IDE other than Google Colaboratory (eg. Anaconda or VS Code), you will need to run the below command on your terminal most likely."
      ],
      "metadata": {
        "id": "jFnu65dm1Wph"
      }
    },
    {
      "cell_type": "code",
      "source": [
        "!pip install yfinance"
      ],
      "metadata": {
        "colab": {
          "base_uri": "https://localhost:8080/"
        },
        "id": "zeGkP1FO1rQv",
        "outputId": "67c129a5-062b-4b2f-9b59-7f03b005afe0"
      },
      "execution_count": null,
      "outputs": [
        {
          "output_type": "stream",
          "name": "stdout",
          "text": [
            "Collecting yfinance\n",
            "  Downloading yfinance-0.1.70-py2.py3-none-any.whl (26 kB)\n",
            "Collecting lxml>=4.5.1\n",
            "  Downloading lxml-4.8.0-cp37-cp37m-manylinux_2_17_x86_64.manylinux2014_x86_64.manylinux_2_24_x86_64.whl (6.4 MB)\n",
            "\u001b[K     |████████████████████████████████| 6.4 MB 7.6 MB/s \n",
            "\u001b[?25hRequirement already satisfied: multitasking>=0.0.7 in /usr/local/lib/python3.7/dist-packages (from yfinance) (0.0.10)\n",
            "Requirement already satisfied: numpy>=1.15 in /usr/local/lib/python3.7/dist-packages (from yfinance) (1.21.5)\n",
            "Requirement already satisfied: pandas>=0.24.0 in /usr/local/lib/python3.7/dist-packages (from yfinance) (1.3.5)\n",
            "Collecting requests>=2.26\n",
            "  Downloading requests-2.27.1-py2.py3-none-any.whl (63 kB)\n",
            "\u001b[K     |████████████████████████████████| 63 kB 1.5 MB/s \n",
            "\u001b[?25hRequirement already satisfied: pytz>=2017.3 in /usr/local/lib/python3.7/dist-packages (from pandas>=0.24.0->yfinance) (2018.9)\n",
            "Requirement already satisfied: python-dateutil>=2.7.3 in /usr/local/lib/python3.7/dist-packages (from pandas>=0.24.0->yfinance) (2.8.2)\n",
            "Requirement already satisfied: six>=1.5 in /usr/local/lib/python3.7/dist-packages (from python-dateutil>=2.7.3->pandas>=0.24.0->yfinance) (1.15.0)\n",
            "Requirement already satisfied: idna<4,>=2.5 in /usr/local/lib/python3.7/dist-packages (from requests>=2.26->yfinance) (2.10)\n",
            "Requirement already satisfied: charset-normalizer~=2.0.0 in /usr/local/lib/python3.7/dist-packages (from requests>=2.26->yfinance) (2.0.12)\n",
            "Requirement already satisfied: urllib3<1.27,>=1.21.1 in /usr/local/lib/python3.7/dist-packages (from requests>=2.26->yfinance) (1.24.3)\n",
            "Requirement already satisfied: certifi>=2017.4.17 in /usr/local/lib/python3.7/dist-packages (from requests>=2.26->yfinance) (2021.10.8)\n",
            "Installing collected packages: requests, lxml, yfinance\n",
            "  Attempting uninstall: requests\n",
            "    Found existing installation: requests 2.23.0\n",
            "    Uninstalling requests-2.23.0:\n",
            "      Successfully uninstalled requests-2.23.0\n",
            "  Attempting uninstall: lxml\n",
            "    Found existing installation: lxml 4.2.6\n",
            "    Uninstalling lxml-4.2.6:\n",
            "      Successfully uninstalled lxml-4.2.6\n",
            "\u001b[31mERROR: pip's dependency resolver does not currently take into account all the packages that are installed. This behaviour is the source of the following dependency conflicts.\n",
            "google-colab 1.0.0 requires requests~=2.23.0, but you have requests 2.27.1 which is incompatible.\n",
            "datascience 0.10.6 requires folium==0.2.1, but you have folium 0.8.3 which is incompatible.\u001b[0m\n",
            "Successfully installed lxml-4.8.0 requests-2.27.1 yfinance-0.1.70\n"
          ]
        }
      ]
    },
    {
      "cell_type": "markdown",
      "source": [
        "We can now import it as follows."
      ],
      "metadata": {
        "id": "sPtCGeTj164t"
      }
    },
    {
      "cell_type": "code",
      "execution_count": null,
      "metadata": {
        "id": "9-uIqmGd0xWR"
      },
      "outputs": [],
      "source": [
        "import yfinance as yf # Import yfinance and call it yf so that we can use this abbreviation in our code"
      ]
    },
    {
      "cell_type": "markdown",
      "source": [
        "Perfect, we are now ready to get data. You can read more about how to use this API by clicking [here](https://pypi.org/project/yfinance/). **Let's start by getting the data on just one stock.**"
      ],
      "metadata": {
        "id": "1H79Jk6219Ig"
      }
    },
    {
      "cell_type": "code",
      "source": [
        "aapl = yf.download(\"AAPL\", start=\"2017-01-01\", end=\"2019-01-01\")\n",
        "aapl.head(5)"
      ],
      "metadata": {
        "colab": {
          "base_uri": "https://localhost:8080/",
          "height": 255
        },
        "id": "OvNznkJX3NiF",
        "outputId": "75a213ee-96f8-4458-df7c-0d5af773ee7a"
      },
      "execution_count": null,
      "outputs": [
        {
          "output_type": "stream",
          "name": "stdout",
          "text": [
            "\r[*********************100%***********************]  1 of 1 completed\n"
          ]
        },
        {
          "output_type": "execute_result",
          "data": {
            "text/html": [
              "\n",
              "  <div id=\"df-9318e5d3-642e-48e2-b687-47b7fe851b0f\">\n",
              "    <div class=\"colab-df-container\">\n",
              "      <div>\n",
              "<style scoped>\n",
              "    .dataframe tbody tr th:only-of-type {\n",
              "        vertical-align: middle;\n",
              "    }\n",
              "\n",
              "    .dataframe tbody tr th {\n",
              "        vertical-align: top;\n",
              "    }\n",
              "\n",
              "    .dataframe thead th {\n",
              "        text-align: right;\n",
              "    }\n",
              "</style>\n",
              "<table border=\"1\" class=\"dataframe\">\n",
              "  <thead>\n",
              "    <tr style=\"text-align: right;\">\n",
              "      <th></th>\n",
              "      <th>Open</th>\n",
              "      <th>High</th>\n",
              "      <th>Low</th>\n",
              "      <th>Close</th>\n",
              "      <th>Adj Close</th>\n",
              "      <th>Volume</th>\n",
              "    </tr>\n",
              "    <tr>\n",
              "      <th>Date</th>\n",
              "      <th></th>\n",
              "      <th></th>\n",
              "      <th></th>\n",
              "      <th></th>\n",
              "      <th></th>\n",
              "      <th></th>\n",
              "    </tr>\n",
              "  </thead>\n",
              "  <tbody>\n",
              "    <tr>\n",
              "      <th>2017-01-03</th>\n",
              "      <td>28.950001</td>\n",
              "      <td>29.082500</td>\n",
              "      <td>28.690001</td>\n",
              "      <td>29.037500</td>\n",
              "      <td>27.297699</td>\n",
              "      <td>115127600</td>\n",
              "    </tr>\n",
              "    <tr>\n",
              "      <th>2017-01-04</th>\n",
              "      <td>28.962500</td>\n",
              "      <td>29.127501</td>\n",
              "      <td>28.937500</td>\n",
              "      <td>29.004999</td>\n",
              "      <td>27.267138</td>\n",
              "      <td>84472400</td>\n",
              "    </tr>\n",
              "    <tr>\n",
              "      <th>2017-01-05</th>\n",
              "      <td>28.980000</td>\n",
              "      <td>29.215000</td>\n",
              "      <td>28.952499</td>\n",
              "      <td>29.152500</td>\n",
              "      <td>27.405804</td>\n",
              "      <td>88774400</td>\n",
              "    </tr>\n",
              "    <tr>\n",
              "      <th>2017-01-06</th>\n",
              "      <td>29.195000</td>\n",
              "      <td>29.540001</td>\n",
              "      <td>29.117500</td>\n",
              "      <td>29.477501</td>\n",
              "      <td>27.711330</td>\n",
              "      <td>127007600</td>\n",
              "    </tr>\n",
              "    <tr>\n",
              "      <th>2017-01-09</th>\n",
              "      <td>29.487499</td>\n",
              "      <td>29.857500</td>\n",
              "      <td>29.485001</td>\n",
              "      <td>29.747499</td>\n",
              "      <td>27.965155</td>\n",
              "      <td>134247600</td>\n",
              "    </tr>\n",
              "  </tbody>\n",
              "</table>\n",
              "</div>\n",
              "      <button class=\"colab-df-convert\" onclick=\"convertToInteractive('df-9318e5d3-642e-48e2-b687-47b7fe851b0f')\"\n",
              "              title=\"Convert this dataframe to an interactive table.\"\n",
              "              style=\"display:none;\">\n",
              "        \n",
              "  <svg xmlns=\"http://www.w3.org/2000/svg\" height=\"24px\"viewBox=\"0 0 24 24\"\n",
              "       width=\"24px\">\n",
              "    <path d=\"M0 0h24v24H0V0z\" fill=\"none\"/>\n",
              "    <path d=\"M18.56 5.44l.94 2.06.94-2.06 2.06-.94-2.06-.94-.94-2.06-.94 2.06-2.06.94zm-11 1L8.5 8.5l.94-2.06 2.06-.94-2.06-.94L8.5 2.5l-.94 2.06-2.06.94zm10 10l.94 2.06.94-2.06 2.06-.94-2.06-.94-.94-2.06-.94 2.06-2.06.94z\"/><path d=\"M17.41 7.96l-1.37-1.37c-.4-.4-.92-.59-1.43-.59-.52 0-1.04.2-1.43.59L10.3 9.45l-7.72 7.72c-.78.78-.78 2.05 0 2.83L4 21.41c.39.39.9.59 1.41.59.51 0 1.02-.2 1.41-.59l7.78-7.78 2.81-2.81c.8-.78.8-2.07 0-2.86zM5.41 20L4 18.59l7.72-7.72 1.47 1.35L5.41 20z\"/>\n",
              "  </svg>\n",
              "      </button>\n",
              "      \n",
              "  <style>\n",
              "    .colab-df-container {\n",
              "      display:flex;\n",
              "      flex-wrap:wrap;\n",
              "      gap: 12px;\n",
              "    }\n",
              "\n",
              "    .colab-df-convert {\n",
              "      background-color: #E8F0FE;\n",
              "      border: none;\n",
              "      border-radius: 50%;\n",
              "      cursor: pointer;\n",
              "      display: none;\n",
              "      fill: #1967D2;\n",
              "      height: 32px;\n",
              "      padding: 0 0 0 0;\n",
              "      width: 32px;\n",
              "    }\n",
              "\n",
              "    .colab-df-convert:hover {\n",
              "      background-color: #E2EBFA;\n",
              "      box-shadow: 0px 1px 2px rgba(60, 64, 67, 0.3), 0px 1px 3px 1px rgba(60, 64, 67, 0.15);\n",
              "      fill: #174EA6;\n",
              "    }\n",
              "\n",
              "    [theme=dark] .colab-df-convert {\n",
              "      background-color: #3B4455;\n",
              "      fill: #D2E3FC;\n",
              "    }\n",
              "\n",
              "    [theme=dark] .colab-df-convert:hover {\n",
              "      background-color: #434B5C;\n",
              "      box-shadow: 0px 1px 3px 1px rgba(0, 0, 0, 0.15);\n",
              "      filter: drop-shadow(0px 1px 2px rgba(0, 0, 0, 0.3));\n",
              "      fill: #FFFFFF;\n",
              "    }\n",
              "  </style>\n",
              "\n",
              "      <script>\n",
              "        const buttonEl =\n",
              "          document.querySelector('#df-9318e5d3-642e-48e2-b687-47b7fe851b0f button.colab-df-convert');\n",
              "        buttonEl.style.display =\n",
              "          google.colab.kernel.accessAllowed ? 'block' : 'none';\n",
              "\n",
              "        async function convertToInteractive(key) {\n",
              "          const element = document.querySelector('#df-9318e5d3-642e-48e2-b687-47b7fe851b0f');\n",
              "          const dataTable =\n",
              "            await google.colab.kernel.invokeFunction('convertToInteractive',\n",
              "                                                     [key], {});\n",
              "          if (!dataTable) return;\n",
              "\n",
              "          const docLinkHtml = 'Like what you see? Visit the ' +\n",
              "            '<a target=\"_blank\" href=https://colab.research.google.com/notebooks/data_table.ipynb>data table notebook</a>'\n",
              "            + ' to learn more about interactive tables.';\n",
              "          element.innerHTML = '';\n",
              "          dataTable['output_type'] = 'display_data';\n",
              "          await google.colab.output.renderOutput(dataTable, element);\n",
              "          const docLink = document.createElement('div');\n",
              "          docLink.innerHTML = docLinkHtml;\n",
              "          element.appendChild(docLink);\n",
              "        }\n",
              "      </script>\n",
              "    </div>\n",
              "  </div>\n",
              "  "
            ],
            "text/plain": [
              "                 Open       High        Low      Close  Adj Close     Volume\n",
              "Date                                                                        \n",
              "2017-01-03  28.950001  29.082500  28.690001  29.037500  27.297699  115127600\n",
              "2017-01-04  28.962500  29.127501  28.937500  29.004999  27.267138   84472400\n",
              "2017-01-05  28.980000  29.215000  28.952499  29.152500  27.405804   88774400\n",
              "2017-01-06  29.195000  29.540001  29.117500  29.477501  27.711330  127007600\n",
              "2017-01-09  29.487499  29.857500  29.485001  29.747499  27.965155  134247600"
            ]
          },
          "metadata": {},
          "execution_count": 3
        }
      ]
    },
    {
      "cell_type": "markdown",
      "source": [
        "Notice that some days are skipped (eg. 2017-01-07). This is because this was not a trading day (ie. weekend or public holiday). You do not need to worry about this."
      ],
      "metadata": {
        "id": "lnvbgqBE3VQl"
      }
    },
    {
      "cell_type": "markdown",
      "source": [
        "You may also notice that there is a column showing \"Adj Close\" and one with \"Close\", so what's the difference? Adjusted close takes into account stock splits and dividends, which is important. Thus, you should use that (instead of Close data).\n",
        "\n",
        "Although Open, High, Low, and Close are adjusted for stock splits, they are not adjusted for dividends. Thus, if your stock pays a dividend but you are testing your strategy on these prices, your profit will be understated by an amount equal to the dividend."
      ],
      "metadata": {
        "id": "4AnkQ32P2WLf"
      }
    },
    {
      "cell_type": "markdown",
      "source": [
        "**To get intraday data do:**"
      ],
      "metadata": {
        "id": "hoxUjPwB7rAa"
      }
    },
    {
      "cell_type": "code",
      "source": [
        "aapl_intra = yf.download(\"AAPL\", interval = '5m', start=\"2022-02-01\", end=\"2022-03-01\")\n",
        "aapl_intra.head(5)"
      ],
      "metadata": {
        "colab": {
          "base_uri": "https://localhost:8080/",
          "height": 255
        },
        "id": "RA272BkX7uad",
        "outputId": "7bd46c28-1540-462c-f3e7-ad034c5cb0cc"
      },
      "execution_count": null,
      "outputs": [
        {
          "output_type": "stream",
          "name": "stdout",
          "text": [
            "\r[*********************100%***********************]  1 of 1 completed\n"
          ]
        },
        {
          "output_type": "execute_result",
          "data": {
            "text/html": [
              "\n",
              "  <div id=\"df-7b384303-1785-4a2d-b4f8-b2182313f4d3\">\n",
              "    <div class=\"colab-df-container\">\n",
              "      <div>\n",
              "<style scoped>\n",
              "    .dataframe tbody tr th:only-of-type {\n",
              "        vertical-align: middle;\n",
              "    }\n",
              "\n",
              "    .dataframe tbody tr th {\n",
              "        vertical-align: top;\n",
              "    }\n",
              "\n",
              "    .dataframe thead th {\n",
              "        text-align: right;\n",
              "    }\n",
              "</style>\n",
              "<table border=\"1\" class=\"dataframe\">\n",
              "  <thead>\n",
              "    <tr style=\"text-align: right;\">\n",
              "      <th></th>\n",
              "      <th>Open</th>\n",
              "      <th>High</th>\n",
              "      <th>Low</th>\n",
              "      <th>Close</th>\n",
              "      <th>Adj Close</th>\n",
              "      <th>Volume</th>\n",
              "    </tr>\n",
              "    <tr>\n",
              "      <th>Datetime</th>\n",
              "      <th></th>\n",
              "      <th></th>\n",
              "      <th></th>\n",
              "      <th></th>\n",
              "      <th></th>\n",
              "      <th></th>\n",
              "    </tr>\n",
              "  </thead>\n",
              "  <tbody>\n",
              "    <tr>\n",
              "      <th>2022-02-01 09:30:00-05:00</th>\n",
              "      <td>174.009995</td>\n",
              "      <td>174.589996</td>\n",
              "      <td>173.029999</td>\n",
              "      <td>173.600006</td>\n",
              "      <td>173.600006</td>\n",
              "      <td>6999150</td>\n",
              "    </tr>\n",
              "    <tr>\n",
              "      <th>2022-02-01 09:35:00-05:00</th>\n",
              "      <td>173.500000</td>\n",
              "      <td>173.750000</td>\n",
              "      <td>173.199997</td>\n",
              "      <td>173.279999</td>\n",
              "      <td>173.279999</td>\n",
              "      <td>2061454</td>\n",
              "    </tr>\n",
              "    <tr>\n",
              "      <th>2022-02-01 09:40:00-05:00</th>\n",
              "      <td>173.429993</td>\n",
              "      <td>173.550003</td>\n",
              "      <td>172.580002</td>\n",
              "      <td>172.589996</td>\n",
              "      <td>172.589996</td>\n",
              "      <td>2337835</td>\n",
              "    </tr>\n",
              "    <tr>\n",
              "      <th>2022-02-01 09:45:00-05:00</th>\n",
              "      <td>172.750000</td>\n",
              "      <td>172.990005</td>\n",
              "      <td>172.509995</td>\n",
              "      <td>172.701797</td>\n",
              "      <td>172.701797</td>\n",
              "      <td>1800858</td>\n",
              "    </tr>\n",
              "    <tr>\n",
              "      <th>2022-02-01 09:50:00-05:00</th>\n",
              "      <td>172.839996</td>\n",
              "      <td>173.074997</td>\n",
              "      <td>172.604996</td>\n",
              "      <td>172.630005</td>\n",
              "      <td>172.630005</td>\n",
              "      <td>1531362</td>\n",
              "    </tr>\n",
              "  </tbody>\n",
              "</table>\n",
              "</div>\n",
              "      <button class=\"colab-df-convert\" onclick=\"convertToInteractive('df-7b384303-1785-4a2d-b4f8-b2182313f4d3')\"\n",
              "              title=\"Convert this dataframe to an interactive table.\"\n",
              "              style=\"display:none;\">\n",
              "        \n",
              "  <svg xmlns=\"http://www.w3.org/2000/svg\" height=\"24px\"viewBox=\"0 0 24 24\"\n",
              "       width=\"24px\">\n",
              "    <path d=\"M0 0h24v24H0V0z\" fill=\"none\"/>\n",
              "    <path d=\"M18.56 5.44l.94 2.06.94-2.06 2.06-.94-2.06-.94-.94-2.06-.94 2.06-2.06.94zm-11 1L8.5 8.5l.94-2.06 2.06-.94-2.06-.94L8.5 2.5l-.94 2.06-2.06.94zm10 10l.94 2.06.94-2.06 2.06-.94-2.06-.94-.94-2.06-.94 2.06-2.06.94z\"/><path d=\"M17.41 7.96l-1.37-1.37c-.4-.4-.92-.59-1.43-.59-.52 0-1.04.2-1.43.59L10.3 9.45l-7.72 7.72c-.78.78-.78 2.05 0 2.83L4 21.41c.39.39.9.59 1.41.59.51 0 1.02-.2 1.41-.59l7.78-7.78 2.81-2.81c.8-.78.8-2.07 0-2.86zM5.41 20L4 18.59l7.72-7.72 1.47 1.35L5.41 20z\"/>\n",
              "  </svg>\n",
              "      </button>\n",
              "      \n",
              "  <style>\n",
              "    .colab-df-container {\n",
              "      display:flex;\n",
              "      flex-wrap:wrap;\n",
              "      gap: 12px;\n",
              "    }\n",
              "\n",
              "    .colab-df-convert {\n",
              "      background-color: #E8F0FE;\n",
              "      border: none;\n",
              "      border-radius: 50%;\n",
              "      cursor: pointer;\n",
              "      display: none;\n",
              "      fill: #1967D2;\n",
              "      height: 32px;\n",
              "      padding: 0 0 0 0;\n",
              "      width: 32px;\n",
              "    }\n",
              "\n",
              "    .colab-df-convert:hover {\n",
              "      background-color: #E2EBFA;\n",
              "      box-shadow: 0px 1px 2px rgba(60, 64, 67, 0.3), 0px 1px 3px 1px rgba(60, 64, 67, 0.15);\n",
              "      fill: #174EA6;\n",
              "    }\n",
              "\n",
              "    [theme=dark] .colab-df-convert {\n",
              "      background-color: #3B4455;\n",
              "      fill: #D2E3FC;\n",
              "    }\n",
              "\n",
              "    [theme=dark] .colab-df-convert:hover {\n",
              "      background-color: #434B5C;\n",
              "      box-shadow: 0px 1px 3px 1px rgba(0, 0, 0, 0.15);\n",
              "      filter: drop-shadow(0px 1px 2px rgba(0, 0, 0, 0.3));\n",
              "      fill: #FFFFFF;\n",
              "    }\n",
              "  </style>\n",
              "\n",
              "      <script>\n",
              "        const buttonEl =\n",
              "          document.querySelector('#df-7b384303-1785-4a2d-b4f8-b2182313f4d3 button.colab-df-convert');\n",
              "        buttonEl.style.display =\n",
              "          google.colab.kernel.accessAllowed ? 'block' : 'none';\n",
              "\n",
              "        async function convertToInteractive(key) {\n",
              "          const element = document.querySelector('#df-7b384303-1785-4a2d-b4f8-b2182313f4d3');\n",
              "          const dataTable =\n",
              "            await google.colab.kernel.invokeFunction('convertToInteractive',\n",
              "                                                     [key], {});\n",
              "          if (!dataTable) return;\n",
              "\n",
              "          const docLinkHtml = 'Like what you see? Visit the ' +\n",
              "            '<a target=\"_blank\" href=https://colab.research.google.com/notebooks/data_table.ipynb>data table notebook</a>'\n",
              "            + ' to learn more about interactive tables.';\n",
              "          element.innerHTML = '';\n",
              "          dataTable['output_type'] = 'display_data';\n",
              "          await google.colab.output.renderOutput(dataTable, element);\n",
              "          const docLink = document.createElement('div');\n",
              "          docLink.innerHTML = docLinkHtml;\n",
              "          element.appendChild(docLink);\n",
              "        }\n",
              "      </script>\n",
              "    </div>\n",
              "  </div>\n",
              "  "
            ],
            "text/plain": [
              "                                 Open        High         Low       Close  \\\n",
              "Datetime                                                                    \n",
              "2022-02-01 09:30:00-05:00  174.009995  174.589996  173.029999  173.600006   \n",
              "2022-02-01 09:35:00-05:00  173.500000  173.750000  173.199997  173.279999   \n",
              "2022-02-01 09:40:00-05:00  173.429993  173.550003  172.580002  172.589996   \n",
              "2022-02-01 09:45:00-05:00  172.750000  172.990005  172.509995  172.701797   \n",
              "2022-02-01 09:50:00-05:00  172.839996  173.074997  172.604996  172.630005   \n",
              "\n",
              "                            Adj Close   Volume  \n",
              "Datetime                                        \n",
              "2022-02-01 09:30:00-05:00  173.600006  6999150  \n",
              "2022-02-01 09:35:00-05:00  173.279999  2061454  \n",
              "2022-02-01 09:40:00-05:00  172.589996  2337835  \n",
              "2022-02-01 09:45:00-05:00  172.701797  1800858  \n",
              "2022-02-01 09:50:00-05:00  172.630005  1531362  "
            ]
          },
          "metadata": {},
          "execution_count": 4
        }
      ]
    },
    {
      "cell_type": "markdown",
      "source": [
        "Intraday 5m data is only available from the last 60 days on `yfinance` unfortunately. If you want even more granularity (eg. 1m data), there is even less days of data available. Thus, I recommend sticking to using daily data as it is more abundant."
      ],
      "metadata": {
        "id": "I1BVbqMN798c"
      }
    },
    {
      "cell_type": "markdown",
      "source": [
        "**Now, say you wanted to get a specific column of data. How would you do that?**"
      ],
      "metadata": {
        "id": "joD53jhD30-b"
      }
    },
    {
      "cell_type": "code",
      "source": [
        "# Method 1.1 -- Specify the Column name\n",
        "aapl.Open"
      ],
      "metadata": {
        "colab": {
          "base_uri": "https://localhost:8080/"
        },
        "id": "hyiwP99B36Ny",
        "outputId": "6dd09084-40b8-4957-d694-d845e3f8c364"
      },
      "execution_count": null,
      "outputs": [
        {
          "output_type": "execute_result",
          "data": {
            "text/plain": [
              "Date\n",
              "2017-01-03    28.950001\n",
              "2017-01-04    28.962500\n",
              "2017-01-05    28.980000\n",
              "2017-01-06    29.195000\n",
              "2017-01-09    29.487499\n",
              "                ...    \n",
              "2018-12-24    37.037498\n",
              "2018-12-26    37.075001\n",
              "2018-12-27    38.959999\n",
              "2018-12-28    39.375000\n",
              "2018-12-31    39.632500\n",
              "Name: Open, Length: 502, dtype: float64"
            ]
          },
          "metadata": {},
          "execution_count": 5
        }
      ]
    },
    {
      "cell_type": "code",
      "source": [
        "# Method 1.2 -- Specify the Column name\n",
        "aapl.loc[:,'Open']"
      ],
      "metadata": {
        "colab": {
          "base_uri": "https://localhost:8080/"
        },
        "id": "fejB7zQh3-mF",
        "outputId": "1b3c6b57-4012-4fee-daeb-76e1355bde9b"
      },
      "execution_count": null,
      "outputs": [
        {
          "output_type": "execute_result",
          "data": {
            "text/plain": [
              "Date\n",
              "2017-01-03    28.950001\n",
              "2017-01-04    28.962500\n",
              "2017-01-05    28.980000\n",
              "2017-01-06    29.195000\n",
              "2017-01-09    29.487499\n",
              "                ...    \n",
              "2018-12-24    37.037498\n",
              "2018-12-26    37.075001\n",
              "2018-12-27    38.959999\n",
              "2018-12-28    39.375000\n",
              "2018-12-31    39.632500\n",
              "Name: Open, Length: 502, dtype: float64"
            ]
          },
          "metadata": {},
          "execution_count": 6
        }
      ]
    },
    {
      "cell_type": "markdown",
      "source": [
        "Method 1.2, although more to type, is more useful as you can also specify a row name like this:"
      ],
      "metadata": {
        "id": "IByMFb4b4FVK"
      }
    },
    {
      "cell_type": "code",
      "source": [
        "# Method 1.2 -- Specify the Column name (and row name)\n",
        "aapl.loc['2017-01-03','Open']"
      ],
      "metadata": {
        "colab": {
          "base_uri": "https://localhost:8080/"
        },
        "id": "Clu5-kEc4Lfe",
        "outputId": "f5260c8c-da79-4bff-cd7c-c81d01e25bc4"
      },
      "execution_count": null,
      "outputs": [
        {
          "output_type": "execute_result",
          "data": {
            "text/plain": [
              "28.950000762939453"
            ]
          },
          "metadata": {},
          "execution_count": 7
        }
      ]
    },
    {
      "cell_type": "code",
      "source": [
        "# Getting a range of data\n",
        "aapl.loc['2017-01-03':'2017-01-08','Open']\n",
        "\n",
        "## Notice that I put '2017-01-08' as the ending date, which is not in the table, yet pandas does not complain\n",
        "## Pandas simply gives us the data up to the last trading day before '2017-01-08'"
      ],
      "metadata": {
        "colab": {
          "base_uri": "https://localhost:8080/"
        },
        "id": "4BK_Rm_o4TZ5",
        "outputId": "89e1293e-41a0-4367-8308-dae824ab25d6"
      },
      "execution_count": null,
      "outputs": [
        {
          "output_type": "execute_result",
          "data": {
            "text/plain": [
              "Date\n",
              "2017-01-03    28.950001\n",
              "2017-01-04    28.962500\n",
              "2017-01-05    28.980000\n",
              "2017-01-06    29.195000\n",
              "Name: Open, dtype: float64"
            ]
          },
          "metadata": {},
          "execution_count": 8
        }
      ]
    },
    {
      "cell_type": "code",
      "source": [
        "# We can also do this\n",
        "aapl.loc['2017-01-03':'2017-01-08','Open':'Low']"
      ],
      "metadata": {
        "colab": {
          "base_uri": "https://localhost:8080/",
          "height": 206
        },
        "id": "vc0Ee_9K4q_A",
        "outputId": "c64957b8-acef-4c08-9e2e-c4ba9bb60f75"
      },
      "execution_count": null,
      "outputs": [
        {
          "output_type": "execute_result",
          "data": {
            "text/html": [
              "\n",
              "  <div id=\"df-5e3f5190-70a7-4ab5-98fd-27de97c8e7ee\">\n",
              "    <div class=\"colab-df-container\">\n",
              "      <div>\n",
              "<style scoped>\n",
              "    .dataframe tbody tr th:only-of-type {\n",
              "        vertical-align: middle;\n",
              "    }\n",
              "\n",
              "    .dataframe tbody tr th {\n",
              "        vertical-align: top;\n",
              "    }\n",
              "\n",
              "    .dataframe thead th {\n",
              "        text-align: right;\n",
              "    }\n",
              "</style>\n",
              "<table border=\"1\" class=\"dataframe\">\n",
              "  <thead>\n",
              "    <tr style=\"text-align: right;\">\n",
              "      <th></th>\n",
              "      <th>Open</th>\n",
              "      <th>High</th>\n",
              "      <th>Low</th>\n",
              "    </tr>\n",
              "    <tr>\n",
              "      <th>Date</th>\n",
              "      <th></th>\n",
              "      <th></th>\n",
              "      <th></th>\n",
              "    </tr>\n",
              "  </thead>\n",
              "  <tbody>\n",
              "    <tr>\n",
              "      <th>2017-01-03</th>\n",
              "      <td>28.950001</td>\n",
              "      <td>29.082500</td>\n",
              "      <td>28.690001</td>\n",
              "    </tr>\n",
              "    <tr>\n",
              "      <th>2017-01-04</th>\n",
              "      <td>28.962500</td>\n",
              "      <td>29.127501</td>\n",
              "      <td>28.937500</td>\n",
              "    </tr>\n",
              "    <tr>\n",
              "      <th>2017-01-05</th>\n",
              "      <td>28.980000</td>\n",
              "      <td>29.215000</td>\n",
              "      <td>28.952499</td>\n",
              "    </tr>\n",
              "    <tr>\n",
              "      <th>2017-01-06</th>\n",
              "      <td>29.195000</td>\n",
              "      <td>29.540001</td>\n",
              "      <td>29.117500</td>\n",
              "    </tr>\n",
              "  </tbody>\n",
              "</table>\n",
              "</div>\n",
              "      <button class=\"colab-df-convert\" onclick=\"convertToInteractive('df-5e3f5190-70a7-4ab5-98fd-27de97c8e7ee')\"\n",
              "              title=\"Convert this dataframe to an interactive table.\"\n",
              "              style=\"display:none;\">\n",
              "        \n",
              "  <svg xmlns=\"http://www.w3.org/2000/svg\" height=\"24px\"viewBox=\"0 0 24 24\"\n",
              "       width=\"24px\">\n",
              "    <path d=\"M0 0h24v24H0V0z\" fill=\"none\"/>\n",
              "    <path d=\"M18.56 5.44l.94 2.06.94-2.06 2.06-.94-2.06-.94-.94-2.06-.94 2.06-2.06.94zm-11 1L8.5 8.5l.94-2.06 2.06-.94-2.06-.94L8.5 2.5l-.94 2.06-2.06.94zm10 10l.94 2.06.94-2.06 2.06-.94-2.06-.94-.94-2.06-.94 2.06-2.06.94z\"/><path d=\"M17.41 7.96l-1.37-1.37c-.4-.4-.92-.59-1.43-.59-.52 0-1.04.2-1.43.59L10.3 9.45l-7.72 7.72c-.78.78-.78 2.05 0 2.83L4 21.41c.39.39.9.59 1.41.59.51 0 1.02-.2 1.41-.59l7.78-7.78 2.81-2.81c.8-.78.8-2.07 0-2.86zM5.41 20L4 18.59l7.72-7.72 1.47 1.35L5.41 20z\"/>\n",
              "  </svg>\n",
              "      </button>\n",
              "      \n",
              "  <style>\n",
              "    .colab-df-container {\n",
              "      display:flex;\n",
              "      flex-wrap:wrap;\n",
              "      gap: 12px;\n",
              "    }\n",
              "\n",
              "    .colab-df-convert {\n",
              "      background-color: #E8F0FE;\n",
              "      border: none;\n",
              "      border-radius: 50%;\n",
              "      cursor: pointer;\n",
              "      display: none;\n",
              "      fill: #1967D2;\n",
              "      height: 32px;\n",
              "      padding: 0 0 0 0;\n",
              "      width: 32px;\n",
              "    }\n",
              "\n",
              "    .colab-df-convert:hover {\n",
              "      background-color: #E2EBFA;\n",
              "      box-shadow: 0px 1px 2px rgba(60, 64, 67, 0.3), 0px 1px 3px 1px rgba(60, 64, 67, 0.15);\n",
              "      fill: #174EA6;\n",
              "    }\n",
              "\n",
              "    [theme=dark] .colab-df-convert {\n",
              "      background-color: #3B4455;\n",
              "      fill: #D2E3FC;\n",
              "    }\n",
              "\n",
              "    [theme=dark] .colab-df-convert:hover {\n",
              "      background-color: #434B5C;\n",
              "      box-shadow: 0px 1px 3px 1px rgba(0, 0, 0, 0.15);\n",
              "      filter: drop-shadow(0px 1px 2px rgba(0, 0, 0, 0.3));\n",
              "      fill: #FFFFFF;\n",
              "    }\n",
              "  </style>\n",
              "\n",
              "      <script>\n",
              "        const buttonEl =\n",
              "          document.querySelector('#df-5e3f5190-70a7-4ab5-98fd-27de97c8e7ee button.colab-df-convert');\n",
              "        buttonEl.style.display =\n",
              "          google.colab.kernel.accessAllowed ? 'block' : 'none';\n",
              "\n",
              "        async function convertToInteractive(key) {\n",
              "          const element = document.querySelector('#df-5e3f5190-70a7-4ab5-98fd-27de97c8e7ee');\n",
              "          const dataTable =\n",
              "            await google.colab.kernel.invokeFunction('convertToInteractive',\n",
              "                                                     [key], {});\n",
              "          if (!dataTable) return;\n",
              "\n",
              "          const docLinkHtml = 'Like what you see? Visit the ' +\n",
              "            '<a target=\"_blank\" href=https://colab.research.google.com/notebooks/data_table.ipynb>data table notebook</a>'\n",
              "            + ' to learn more about interactive tables.';\n",
              "          element.innerHTML = '';\n",
              "          dataTable['output_type'] = 'display_data';\n",
              "          await google.colab.output.renderOutput(dataTable, element);\n",
              "          const docLink = document.createElement('div');\n",
              "          docLink.innerHTML = docLinkHtml;\n",
              "          element.appendChild(docLink);\n",
              "        }\n",
              "      </script>\n",
              "    </div>\n",
              "  </div>\n",
              "  "
            ],
            "text/plain": [
              "                 Open       High        Low\n",
              "Date                                       \n",
              "2017-01-03  28.950001  29.082500  28.690001\n",
              "2017-01-04  28.962500  29.127501  28.937500\n",
              "2017-01-05  28.980000  29.215000  28.952499\n",
              "2017-01-06  29.195000  29.540001  29.117500"
            ]
          },
          "metadata": {},
          "execution_count": 9
        }
      ]
    },
    {
      "cell_type": "markdown",
      "source": [
        "If you look at the table above, you will see that the 'Date' label looks different from the labels of the different columns. Thus, we cannot access this column using the same technique as the rest."
      ],
      "metadata": {
        "id": "588VpTtICSFF"
      }
    },
    {
      "cell_type": "code",
      "source": [
        "# Comment the code below out if you would like to see the error it throws\n",
        "# aapl.Date"
      ],
      "metadata": {
        "id": "AFUzrhMtCbao"
      },
      "execution_count": null,
      "outputs": []
    },
    {
      "cell_type": "code",
      "source": [
        "# Instead do this\n",
        "aapl.index"
      ],
      "metadata": {
        "colab": {
          "base_uri": "https://localhost:8080/"
        },
        "id": "OppG2znECfJ_",
        "outputId": "3c66780f-8f6a-4a0b-88fe-1de8aa750a40"
      },
      "execution_count": null,
      "outputs": [
        {
          "output_type": "execute_result",
          "data": {
            "text/plain": [
              "DatetimeIndex(['2017-01-03', '2017-01-04', '2017-01-05', '2017-01-06',\n",
              "               '2017-01-09', '2017-01-10', '2017-01-11', '2017-01-12',\n",
              "               '2017-01-13', '2017-01-17',\n",
              "               ...\n",
              "               '2018-12-17', '2018-12-18', '2018-12-19', '2018-12-20',\n",
              "               '2018-12-21', '2018-12-24', '2018-12-26', '2018-12-27',\n",
              "               '2018-12-28', '2018-12-31'],\n",
              "              dtype='datetime64[ns]', name='Date', length=502, freq=None)"
            ]
          },
          "metadata": {},
          "execution_count": 11
        }
      ]
    },
    {
      "cell_type": "code",
      "source": [
        "# Want to get a specific date? Do this:\n",
        "aapl.index[4]"
      ],
      "metadata": {
        "colab": {
          "base_uri": "https://localhost:8080/"
        },
        "id": "kW9U8tL7CnXh",
        "outputId": "5e9193c1-b19a-414d-9b52-b3dc6bef13e1"
      },
      "execution_count": null,
      "outputs": [
        {
          "output_type": "execute_result",
          "data": {
            "text/plain": [
              "Timestamp('2017-01-09 00:00:00')"
            ]
          },
          "metadata": {},
          "execution_count": 12
        }
      ]
    },
    {
      "cell_type": "markdown",
      "source": [
        "We can also get data by specifying the row or column *number*. The first number in the square brackets is the row number. Second is the column number."
      ],
      "metadata": {
        "id": "D6u0w1QZ4xFV"
      }
    },
    {
      "cell_type": "code",
      "source": [
        "# Method 2\n",
        "# In coding, what you would think of as row 1 or column 1, the computer thinks of as row 0 or column 0\n",
        "# This can be difficult to get used to but try not to forget!\n",
        "\n",
        "aapl.iloc[0,0] # \"First\" row and column of data"
      ],
      "metadata": {
        "colab": {
          "base_uri": "https://localhost:8080/"
        },
        "id": "ke18rqNI4weR",
        "outputId": "28c27199-a70a-40da-f6f9-bcc3a1a76131"
      },
      "execution_count": null,
      "outputs": [
        {
          "output_type": "execute_result",
          "data": {
            "text/plain": [
              "28.950000762939453"
            ]
          },
          "metadata": {},
          "execution_count": 13
        }
      ]
    },
    {
      "cell_type": "markdown",
      "source": [
        "You can read more about how to use `iloc` [here](https://pandas.pydata.org/docs/reference/api/pandas.DataFrame.iloc.html)."
      ],
      "metadata": {
        "id": "mnPAuKJ15GlG"
      }
    },
    {
      "cell_type": "markdown",
      "source": [
        "**Now let's look at how to get data for two or more stocks at the same time.**"
      ],
      "metadata": {
        "id": "rtr1nJw33l9v"
      }
    },
    {
      "cell_type": "code",
      "source": [
        "data = yf.download(\"MSFT, AAPL\", start=\"2017-01-01\", end=\"2019-01-01\")"
      ],
      "metadata": {
        "colab": {
          "base_uri": "https://localhost:8080/"
        },
        "id": "4FyNnrOC1gyt",
        "outputId": "17e29dd1-b69a-4c83-abb1-d41200ab9270"
      },
      "execution_count": null,
      "outputs": [
        {
          "output_type": "stream",
          "name": "stdout",
          "text": [
            "[*********************100%***********************]  2 of 2 completed\n"
          ]
        }
      ]
    },
    {
      "cell_type": "code",
      "source": [
        "data"
      ],
      "metadata": {
        "colab": {
          "base_uri": "https://localhost:8080/",
          "height": 486
        },
        "id": "uN2jmMkm2S9c",
        "outputId": "f70ee9b9-0167-4548-9818-d485879dd2e9"
      },
      "execution_count": null,
      "outputs": [
        {
          "output_type": "execute_result",
          "data": {
            "text/html": [
              "\n",
              "  <div id=\"df-beb8e617-3665-4873-8e8a-2a43974e2bb4\">\n",
              "    <div class=\"colab-df-container\">\n",
              "      <div>\n",
              "<style scoped>\n",
              "    .dataframe tbody tr th:only-of-type {\n",
              "        vertical-align: middle;\n",
              "    }\n",
              "\n",
              "    .dataframe tbody tr th {\n",
              "        vertical-align: top;\n",
              "    }\n",
              "\n",
              "    .dataframe thead tr th {\n",
              "        text-align: left;\n",
              "    }\n",
              "\n",
              "    .dataframe thead tr:last-of-type th {\n",
              "        text-align: right;\n",
              "    }\n",
              "</style>\n",
              "<table border=\"1\" class=\"dataframe\">\n",
              "  <thead>\n",
              "    <tr>\n",
              "      <th></th>\n",
              "      <th colspan=\"2\" halign=\"left\">Adj Close</th>\n",
              "      <th colspan=\"2\" halign=\"left\">Close</th>\n",
              "      <th colspan=\"2\" halign=\"left\">High</th>\n",
              "      <th colspan=\"2\" halign=\"left\">Low</th>\n",
              "      <th colspan=\"2\" halign=\"left\">Open</th>\n",
              "      <th colspan=\"2\" halign=\"left\">Volume</th>\n",
              "    </tr>\n",
              "    <tr>\n",
              "      <th></th>\n",
              "      <th>AAPL</th>\n",
              "      <th>MSFT</th>\n",
              "      <th>AAPL</th>\n",
              "      <th>MSFT</th>\n",
              "      <th>AAPL</th>\n",
              "      <th>MSFT</th>\n",
              "      <th>AAPL</th>\n",
              "      <th>MSFT</th>\n",
              "      <th>AAPL</th>\n",
              "      <th>MSFT</th>\n",
              "      <th>AAPL</th>\n",
              "      <th>MSFT</th>\n",
              "    </tr>\n",
              "    <tr>\n",
              "      <th>Date</th>\n",
              "      <th></th>\n",
              "      <th></th>\n",
              "      <th></th>\n",
              "      <th></th>\n",
              "      <th></th>\n",
              "      <th></th>\n",
              "      <th></th>\n",
              "      <th></th>\n",
              "      <th></th>\n",
              "      <th></th>\n",
              "      <th></th>\n",
              "      <th></th>\n",
              "    </tr>\n",
              "  </thead>\n",
              "  <tbody>\n",
              "    <tr>\n",
              "      <th>2017-01-03</th>\n",
              "      <td>27.297691</td>\n",
              "      <td>58.065449</td>\n",
              "      <td>29.037500</td>\n",
              "      <td>62.580002</td>\n",
              "      <td>29.082500</td>\n",
              "      <td>62.840000</td>\n",
              "      <td>28.690001</td>\n",
              "      <td>62.130001</td>\n",
              "      <td>28.950001</td>\n",
              "      <td>62.790001</td>\n",
              "      <td>115127600</td>\n",
              "      <td>20694100</td>\n",
              "    </tr>\n",
              "    <tr>\n",
              "      <th>2017-01-04</th>\n",
              "      <td>27.267138</td>\n",
              "      <td>57.805649</td>\n",
              "      <td>29.004999</td>\n",
              "      <td>62.299999</td>\n",
              "      <td>29.127501</td>\n",
              "      <td>62.750000</td>\n",
              "      <td>28.937500</td>\n",
              "      <td>62.119999</td>\n",
              "      <td>28.962500</td>\n",
              "      <td>62.480000</td>\n",
              "      <td>84472400</td>\n",
              "      <td>21340000</td>\n",
              "    </tr>\n",
              "    <tr>\n",
              "      <th>2017-01-05</th>\n",
              "      <td>27.405804</td>\n",
              "      <td>57.805649</td>\n",
              "      <td>29.152500</td>\n",
              "      <td>62.299999</td>\n",
              "      <td>29.215000</td>\n",
              "      <td>62.660000</td>\n",
              "      <td>28.952499</td>\n",
              "      <td>62.029999</td>\n",
              "      <td>28.980000</td>\n",
              "      <td>62.189999</td>\n",
              "      <td>88774400</td>\n",
              "      <td>24876000</td>\n",
              "    </tr>\n",
              "    <tr>\n",
              "      <th>2017-01-06</th>\n",
              "      <td>27.711330</td>\n",
              "      <td>58.306702</td>\n",
              "      <td>29.477501</td>\n",
              "      <td>62.840000</td>\n",
              "      <td>29.540001</td>\n",
              "      <td>63.150002</td>\n",
              "      <td>29.117500</td>\n",
              "      <td>62.040001</td>\n",
              "      <td>29.195000</td>\n",
              "      <td>62.299999</td>\n",
              "      <td>127007600</td>\n",
              "      <td>19922900</td>\n",
              "    </tr>\n",
              "    <tr>\n",
              "      <th>2017-01-09</th>\n",
              "      <td>27.965151</td>\n",
              "      <td>58.121136</td>\n",
              "      <td>29.747499</td>\n",
              "      <td>62.639999</td>\n",
              "      <td>29.857500</td>\n",
              "      <td>63.080002</td>\n",
              "      <td>29.485001</td>\n",
              "      <td>62.540001</td>\n",
              "      <td>29.487499</td>\n",
              "      <td>62.759998</td>\n",
              "      <td>134247600</td>\n",
              "      <td>20382700</td>\n",
              "    </tr>\n",
              "    <tr>\n",
              "      <th>...</th>\n",
              "      <td>...</td>\n",
              "      <td>...</td>\n",
              "      <td>...</td>\n",
              "      <td>...</td>\n",
              "      <td>...</td>\n",
              "      <td>...</td>\n",
              "      <td>...</td>\n",
              "      <td>...</td>\n",
              "      <td>...</td>\n",
              "      <td>...</td>\n",
              "      <td>...</td>\n",
              "      <td>...</td>\n",
              "    </tr>\n",
              "    <tr>\n",
              "      <th>2018-12-24</th>\n",
              "      <td>35.589470</td>\n",
              "      <td>90.835312</td>\n",
              "      <td>36.707500</td>\n",
              "      <td>94.129997</td>\n",
              "      <td>37.887501</td>\n",
              "      <td>97.970001</td>\n",
              "      <td>36.647499</td>\n",
              "      <td>93.980003</td>\n",
              "      <td>37.037498</td>\n",
              "      <td>97.680000</td>\n",
              "      <td>148676800</td>\n",
              "      <td>43935200</td>\n",
              "    </tr>\n",
              "    <tr>\n",
              "      <th>2018-12-26</th>\n",
              "      <td>38.095741</td>\n",
              "      <td>97.040245</td>\n",
              "      <td>39.292500</td>\n",
              "      <td>100.559998</td>\n",
              "      <td>39.307499</td>\n",
              "      <td>100.690002</td>\n",
              "      <td>36.680000</td>\n",
              "      <td>93.959999</td>\n",
              "      <td>37.075001</td>\n",
              "      <td>95.139999</td>\n",
              "      <td>234330000</td>\n",
              "      <td>51634800</td>\n",
              "    </tr>\n",
              "    <tr>\n",
              "      <th>2018-12-27</th>\n",
              "      <td>37.848499</td>\n",
              "      <td>97.638550</td>\n",
              "      <td>39.037498</td>\n",
              "      <td>101.180000</td>\n",
              "      <td>39.192501</td>\n",
              "      <td>101.190002</td>\n",
              "      <td>37.517502</td>\n",
              "      <td>96.400002</td>\n",
              "      <td>38.959999</td>\n",
              "      <td>99.300003</td>\n",
              "      <td>212468400</td>\n",
              "      <td>49498500</td>\n",
              "    </tr>\n",
              "    <tr>\n",
              "      <th>2018-12-28</th>\n",
              "      <td>37.867893</td>\n",
              "      <td>96.876205</td>\n",
              "      <td>39.057499</td>\n",
              "      <td>100.389999</td>\n",
              "      <td>39.630001</td>\n",
              "      <td>102.410004</td>\n",
              "      <td>38.637501</td>\n",
              "      <td>99.519997</td>\n",
              "      <td>39.375000</td>\n",
              "      <td>102.089996</td>\n",
              "      <td>169165600</td>\n",
              "      <td>38196300</td>\n",
              "    </tr>\n",
              "    <tr>\n",
              "      <th>2018-12-31</th>\n",
              "      <td>38.233894</td>\n",
              "      <td>98.014893</td>\n",
              "      <td>39.435001</td>\n",
              "      <td>101.570000</td>\n",
              "      <td>39.840000</td>\n",
              "      <td>102.400002</td>\n",
              "      <td>39.119999</td>\n",
              "      <td>100.440002</td>\n",
              "      <td>39.632500</td>\n",
              "      <td>101.290001</td>\n",
              "      <td>140014000</td>\n",
              "      <td>33173800</td>\n",
              "    </tr>\n",
              "  </tbody>\n",
              "</table>\n",
              "<p>502 rows × 12 columns</p>\n",
              "</div>\n",
              "      <button class=\"colab-df-convert\" onclick=\"convertToInteractive('df-beb8e617-3665-4873-8e8a-2a43974e2bb4')\"\n",
              "              title=\"Convert this dataframe to an interactive table.\"\n",
              "              style=\"display:none;\">\n",
              "        \n",
              "  <svg xmlns=\"http://www.w3.org/2000/svg\" height=\"24px\"viewBox=\"0 0 24 24\"\n",
              "       width=\"24px\">\n",
              "    <path d=\"M0 0h24v24H0V0z\" fill=\"none\"/>\n",
              "    <path d=\"M18.56 5.44l.94 2.06.94-2.06 2.06-.94-2.06-.94-.94-2.06-.94 2.06-2.06.94zm-11 1L8.5 8.5l.94-2.06 2.06-.94-2.06-.94L8.5 2.5l-.94 2.06-2.06.94zm10 10l.94 2.06.94-2.06 2.06-.94-2.06-.94-.94-2.06-.94 2.06-2.06.94z\"/><path d=\"M17.41 7.96l-1.37-1.37c-.4-.4-.92-.59-1.43-.59-.52 0-1.04.2-1.43.59L10.3 9.45l-7.72 7.72c-.78.78-.78 2.05 0 2.83L4 21.41c.39.39.9.59 1.41.59.51 0 1.02-.2 1.41-.59l7.78-7.78 2.81-2.81c.8-.78.8-2.07 0-2.86zM5.41 20L4 18.59l7.72-7.72 1.47 1.35L5.41 20z\"/>\n",
              "  </svg>\n",
              "      </button>\n",
              "      \n",
              "  <style>\n",
              "    .colab-df-container {\n",
              "      display:flex;\n",
              "      flex-wrap:wrap;\n",
              "      gap: 12px;\n",
              "    }\n",
              "\n",
              "    .colab-df-convert {\n",
              "      background-color: #E8F0FE;\n",
              "      border: none;\n",
              "      border-radius: 50%;\n",
              "      cursor: pointer;\n",
              "      display: none;\n",
              "      fill: #1967D2;\n",
              "      height: 32px;\n",
              "      padding: 0 0 0 0;\n",
              "      width: 32px;\n",
              "    }\n",
              "\n",
              "    .colab-df-convert:hover {\n",
              "      background-color: #E2EBFA;\n",
              "      box-shadow: 0px 1px 2px rgba(60, 64, 67, 0.3), 0px 1px 3px 1px rgba(60, 64, 67, 0.15);\n",
              "      fill: #174EA6;\n",
              "    }\n",
              "\n",
              "    [theme=dark] .colab-df-convert {\n",
              "      background-color: #3B4455;\n",
              "      fill: #D2E3FC;\n",
              "    }\n",
              "\n",
              "    [theme=dark] .colab-df-convert:hover {\n",
              "      background-color: #434B5C;\n",
              "      box-shadow: 0px 1px 3px 1px rgba(0, 0, 0, 0.15);\n",
              "      filter: drop-shadow(0px 1px 2px rgba(0, 0, 0, 0.3));\n",
              "      fill: #FFFFFF;\n",
              "    }\n",
              "  </style>\n",
              "\n",
              "      <script>\n",
              "        const buttonEl =\n",
              "          document.querySelector('#df-beb8e617-3665-4873-8e8a-2a43974e2bb4 button.colab-df-convert');\n",
              "        buttonEl.style.display =\n",
              "          google.colab.kernel.accessAllowed ? 'block' : 'none';\n",
              "\n",
              "        async function convertToInteractive(key) {\n",
              "          const element = document.querySelector('#df-beb8e617-3665-4873-8e8a-2a43974e2bb4');\n",
              "          const dataTable =\n",
              "            await google.colab.kernel.invokeFunction('convertToInteractive',\n",
              "                                                     [key], {});\n",
              "          if (!dataTable) return;\n",
              "\n",
              "          const docLinkHtml = 'Like what you see? Visit the ' +\n",
              "            '<a target=\"_blank\" href=https://colab.research.google.com/notebooks/data_table.ipynb>data table notebook</a>'\n",
              "            + ' to learn more about interactive tables.';\n",
              "          element.innerHTML = '';\n",
              "          dataTable['output_type'] = 'display_data';\n",
              "          await google.colab.output.renderOutput(dataTable, element);\n",
              "          const docLink = document.createElement('div');\n",
              "          docLink.innerHTML = docLinkHtml;\n",
              "          element.appendChild(docLink);\n",
              "        }\n",
              "      </script>\n",
              "    </div>\n",
              "  </div>\n",
              "  "
            ],
            "text/plain": [
              "            Adj Close                 Close                   High  \\\n",
              "                 AAPL       MSFT       AAPL        MSFT       AAPL   \n",
              "Date                                                                 \n",
              "2017-01-03  27.297691  58.065449  29.037500   62.580002  29.082500   \n",
              "2017-01-04  27.267138  57.805649  29.004999   62.299999  29.127501   \n",
              "2017-01-05  27.405804  57.805649  29.152500   62.299999  29.215000   \n",
              "2017-01-06  27.711330  58.306702  29.477501   62.840000  29.540001   \n",
              "2017-01-09  27.965151  58.121136  29.747499   62.639999  29.857500   \n",
              "...               ...        ...        ...         ...        ...   \n",
              "2018-12-24  35.589470  90.835312  36.707500   94.129997  37.887501   \n",
              "2018-12-26  38.095741  97.040245  39.292500  100.559998  39.307499   \n",
              "2018-12-27  37.848499  97.638550  39.037498  101.180000  39.192501   \n",
              "2018-12-28  37.867893  96.876205  39.057499  100.389999  39.630001   \n",
              "2018-12-31  38.233894  98.014893  39.435001  101.570000  39.840000   \n",
              "\n",
              "                              Low                   Open              \\\n",
              "                  MSFT       AAPL        MSFT       AAPL        MSFT   \n",
              "Date                                                                   \n",
              "2017-01-03   62.840000  28.690001   62.130001  28.950001   62.790001   \n",
              "2017-01-04   62.750000  28.937500   62.119999  28.962500   62.480000   \n",
              "2017-01-05   62.660000  28.952499   62.029999  28.980000   62.189999   \n",
              "2017-01-06   63.150002  29.117500   62.040001  29.195000   62.299999   \n",
              "2017-01-09   63.080002  29.485001   62.540001  29.487499   62.759998   \n",
              "...                ...        ...         ...        ...         ...   \n",
              "2018-12-24   97.970001  36.647499   93.980003  37.037498   97.680000   \n",
              "2018-12-26  100.690002  36.680000   93.959999  37.075001   95.139999   \n",
              "2018-12-27  101.190002  37.517502   96.400002  38.959999   99.300003   \n",
              "2018-12-28  102.410004  38.637501   99.519997  39.375000  102.089996   \n",
              "2018-12-31  102.400002  39.119999  100.440002  39.632500  101.290001   \n",
              "\n",
              "               Volume            \n",
              "                 AAPL      MSFT  \n",
              "Date                             \n",
              "2017-01-03  115127600  20694100  \n",
              "2017-01-04   84472400  21340000  \n",
              "2017-01-05   88774400  24876000  \n",
              "2017-01-06  127007600  19922900  \n",
              "2017-01-09  134247600  20382700  \n",
              "...               ...       ...  \n",
              "2018-12-24  148676800  43935200  \n",
              "2018-12-26  234330000  51634800  \n",
              "2018-12-27  212468400  49498500  \n",
              "2018-12-28  169165600  38196300  \n",
              "2018-12-31  140014000  33173800  \n",
              "\n",
              "[502 rows x 12 columns]"
            ]
          },
          "metadata": {},
          "execution_count": 15
        }
      ]
    },
    {
      "cell_type": "markdown",
      "source": [
        "Let's say we wanted to access the 'Adj Close' column for AAPL. How would we do this? Well, our table now has *two* column headers so our approach is slightly different to before."
      ],
      "metadata": {
        "id": "anpPyBxQ5Pct"
      }
    },
    {
      "cell_type": "code",
      "source": [
        "# Method 1.1\n",
        "data.loc[:,('Adj Close','AAPL')] # We put both headers now rather than only one"
      ],
      "metadata": {
        "colab": {
          "base_uri": "https://localhost:8080/"
        },
        "id": "Cp4boYir2UPW",
        "outputId": "f39a78c2-3dba-4cf0-8ab7-b1aec5e4a68d"
      },
      "execution_count": null,
      "outputs": [
        {
          "output_type": "execute_result",
          "data": {
            "text/plain": [
              "Date\n",
              "2017-01-03    27.297691\n",
              "2017-01-04    27.267138\n",
              "2017-01-05    27.405804\n",
              "2017-01-06    27.711330\n",
              "2017-01-09    27.965151\n",
              "                ...    \n",
              "2018-12-24    35.589470\n",
              "2018-12-26    38.095741\n",
              "2018-12-27    37.848499\n",
              "2018-12-28    37.867893\n",
              "2018-12-31    38.233894\n",
              "Name: (Adj Close, AAPL), Length: 502, dtype: float64"
            ]
          },
          "metadata": {},
          "execution_count": 16
        }
      ]
    },
    {
      "cell_type": "code",
      "source": [
        "# As before, we can get a specific data like this\n",
        "data.loc['2018-12-24',('Adj Close','AAPL')]"
      ],
      "metadata": {
        "colab": {
          "base_uri": "https://localhost:8080/"
        },
        "id": "jhoDfcIp5izK",
        "outputId": "e613e120-51a1-4004-8d09-bcaa259feab4"
      },
      "execution_count": null,
      "outputs": [
        {
          "output_type": "execute_result",
          "data": {
            "text/plain": [
              "35.58946990966797"
            ]
          },
          "metadata": {},
          "execution_count": 17
        }
      ]
    },
    {
      "cell_type": "code",
      "source": [
        "# And a range of dates like this\n",
        "data.loc['2018-12-24':'2019-12-24',('Adj Close','AAPL')]"
      ],
      "metadata": {
        "colab": {
          "base_uri": "https://localhost:8080/"
        },
        "id": "v5ufBC9o5rcy",
        "outputId": "21527334-9a0a-46e7-f058-46fd06f024d4"
      },
      "execution_count": null,
      "outputs": [
        {
          "output_type": "execute_result",
          "data": {
            "text/plain": [
              "Date\n",
              "2018-12-24    35.589470\n",
              "2018-12-26    38.095741\n",
              "2018-12-27    37.848499\n",
              "2018-12-28    37.867893\n",
              "2018-12-31    38.233894\n",
              "Name: (Adj Close, AAPL), dtype: float64"
            ]
          },
          "metadata": {},
          "execution_count": 18
        }
      ]
    },
    {
      "cell_type": "code",
      "source": [
        "# Method 1.2\n",
        "data.Close.AAPL"
      ],
      "metadata": {
        "colab": {
          "base_uri": "https://localhost:8080/"
        },
        "id": "DlkwN9A25wNx",
        "outputId": "2c2fd206-4d21-47e8-f5e2-e998cba649e7"
      },
      "execution_count": null,
      "outputs": [
        {
          "output_type": "execute_result",
          "data": {
            "text/plain": [
              "Date\n",
              "2017-01-03    29.037500\n",
              "2017-01-04    29.004999\n",
              "2017-01-05    29.152500\n",
              "2017-01-06    29.477501\n",
              "2017-01-09    29.747499\n",
              "                ...    \n",
              "2018-12-24    36.707500\n",
              "2018-12-26    39.292500\n",
              "2018-12-27    39.037498\n",
              "2018-12-28    39.057499\n",
              "2018-12-31    39.435001\n",
              "Name: AAPL, Length: 502, dtype: float64"
            ]
          },
          "metadata": {},
          "execution_count": 19
        }
      ]
    },
    {
      "cell_type": "markdown",
      "source": [
        "Method 1.2 works when the name is nice. However, it does not work for 'Adj Close' due to the space. Observe:"
      ],
      "metadata": {
        "id": "aDaNjr2O56I0"
      }
    },
    {
      "cell_type": "code",
      "source": [
        "# Remove the hashtag below if you want to see the error it throws\n",
        "# data.Adj Close.AAPL"
      ],
      "metadata": {
        "id": "jl4Xi1WI6Csp"
      },
      "execution_count": null,
      "outputs": []
    },
    {
      "cell_type": "markdown",
      "source": [
        "We can again use iloc (method 2):"
      ],
      "metadata": {
        "id": "wsTTRJS76E9x"
      }
    },
    {
      "cell_type": "code",
      "source": [
        "data.iloc[0,0]"
      ],
      "metadata": {
        "colab": {
          "base_uri": "https://localhost:8080/"
        },
        "id": "Qu5k1Neg6I-T",
        "outputId": "49a20ad0-7418-4bc1-b027-7b76f3cea096"
      },
      "execution_count": null,
      "outputs": [
        {
          "output_type": "execute_result",
          "data": {
            "text/plain": [
              "27.297691345214844"
            ]
          },
          "metadata": {},
          "execution_count": 21
        }
      ]
    },
    {
      "cell_type": "code",
      "source": [
        "data.iloc[0,1]"
      ],
      "metadata": {
        "colab": {
          "base_uri": "https://localhost:8080/"
        },
        "id": "nKQLNlnp6OC6",
        "outputId": "bb509a0f-e7a5-4ab7-eaae-1bb886af01b2"
      },
      "execution_count": null,
      "outputs": [
        {
          "output_type": "execute_result",
          "data": {
            "text/plain": [
              "58.06544876098633"
            ]
          },
          "metadata": {},
          "execution_count": 22
        }
      ]
    },
    {
      "cell_type": "markdown",
      "source": [
        "# 2. Cleaning your data"
      ],
      "metadata": {
        "id": "Zh46XtVn6bRU"
      }
    },
    {
      "cell_type": "markdown",
      "source": [
        "Cleaning data may sound weird. It essentially means preparing it so that you can run a strategy.\n",
        "\n",
        "So what does it mean for data to be 'dirty'? Well, it means that data may be missing for certain days for example. This is more common than you think, especially for more obscure stocks.\n",
        "\n",
        "**When data is missing, the cell value is just blank. This means that if you try and access the value in the cell using `loc` or `iloc` as in Part 1, it will return a `nan` value (which means the cell is blank).**"
      ],
      "metadata": {
        "id": "OzZb5M2a6eb2"
      }
    },
    {
      "cell_type": "code",
      "source": [
        "# Let's see how many nan values there are in our AAPL data\n",
        "aapl.isna().sum()"
      ],
      "metadata": {
        "colab": {
          "base_uri": "https://localhost:8080/"
        },
        "id": "mxrkerc96dfF",
        "outputId": "8d60c474-003b-4d29-84b2-7b20797bc9e9"
      },
      "execution_count": null,
      "outputs": [
        {
          "output_type": "execute_result",
          "data": {
            "text/plain": [
              "Open         0\n",
              "High         0\n",
              "Low          0\n",
              "Close        0\n",
              "Adj Close    0\n",
              "Volume       0\n",
              "dtype: int64"
            ]
          },
          "metadata": {},
          "execution_count": 23
        }
      ]
    },
    {
      "cell_type": "markdown",
      "source": [
        "It seems we were lucky and there are no NaN values in any of the columns. But what should you do if there are? **If you just code a backtest when there is missing data, your backtest will often result in an error.**\n",
        "\n",
        "So, we need to **fill the empty cells**. There are multiple ways of doing this, but I will cover two simple but well-known ways: **forwardfill and backfill**. \n",
        "\n",
        "* Forwardfill: is when you use the value in the previous row (ie. row i-1) to fill the next one (ie. row i). \n",
        "\n",
        "* Backfill: uses row i+1 to fill row i. \n",
        "\n",
        "Important notes: \n",
        "* Forwardfill cannot fill the first row as there is no row before it. \n",
        "* Backfill cannot fill the last row as there is no row after it. \n",
        "\n",
        "Thus, I recommend using both methods just in case."
      ],
      "metadata": {
        "id": "MfyjYg1k7Fqg"
      }
    },
    {
      "cell_type": "code",
      "source": [
        "# Forward fill the data first\n",
        "aapl.ffill(inplace=True) \n",
        "\n",
        "# Setting inplace = True means that our actual aapl dataframe is written over\n",
        "# Otherwise, it would return a new dataframe that you need to store like thisL\n",
        "\n",
        "aapl = aapl.ffill()"
      ],
      "metadata": {
        "id": "nCBjcCAu7b0A"
      },
      "execution_count": null,
      "outputs": []
    },
    {
      "cell_type": "code",
      "source": [
        "# We can now backfill just in case\n",
        "aapl.bfill(inplace=True)"
      ],
      "metadata": {
        "id": "vD7yjURD9e5Q"
      },
      "execution_count": null,
      "outputs": []
    },
    {
      "cell_type": "markdown",
      "source": [
        "**Why did I choose to forward fill first?**\n",
        "\n",
        "Well, as we go down the rows of our table you notice that time progresses more towards the present. Thus, it makes sense to fill a future timestamp with the value from a current timestamp. It does not make sense to fill a future timestamp with a timestamp even more in the future as you would never be able to do this in real-life; thus, you should not do this in your backtest either."
      ],
      "metadata": {
        "id": "Qw2pcwqd91w1"
      }
    },
    {
      "cell_type": "markdown",
      "source": [
        "And that's it! We have now cleaned our data and are ready to backtest our strategy!"
      ],
      "metadata": {
        "id": "ruGkXx8v-nT0"
      }
    },
    {
      "cell_type": "markdown",
      "source": [
        "# 3. Plotting price data"
      ],
      "metadata": {
        "id": "hXpBcpz2_HaR"
      }
    },
    {
      "cell_type": "code",
      "source": [
        "# Let's just import the typical packages + matplotlib\n",
        "import pandas as pd\n",
        "import numpy as np\n",
        "import matplotlib.pyplot as plt"
      ],
      "metadata": {
        "id": "whXRjOk191Q9"
      },
      "execution_count": null,
      "outputs": []
    },
    {
      "cell_type": "markdown",
      "source": [
        "Line 4 is used to actually plot the chart. To start, let's first look at how to make a plot of the Adj Close prices."
      ],
      "metadata": {
        "id": "2Mkod2A5_StL"
      }
    },
    {
      "cell_type": "code",
      "source": [
        "plt.plot(aapl.loc[:,'Adj Close']) # Plotting only apple"
      ],
      "metadata": {
        "colab": {
          "base_uri": "https://localhost:8080/",
          "height": 282
        },
        "id": "bK3Kl3cp_RuS",
        "outputId": "9ae42097-73e0-4533-8d8d-a5b5b194f742"
      },
      "execution_count": null,
      "outputs": [
        {
          "output_type": "execute_result",
          "data": {
            "text/plain": [
              "[<matplotlib.lines.Line2D at 0x7f0b21997d50>]"
            ]
          },
          "metadata": {},
          "execution_count": 27
        },
        {
          "output_type": "display_data",
          "data": {
            "image/png": "[encoded data removed]",
            "text/plain": [
              "<Figure size 432x288 with 1 Axes>"
            ]
          },
          "metadata": {
            "needs_background": "light"
          }
        }
      ]
    },
    {
      "cell_type": "code",
      "source": [
        "plt.plot(data.loc[:,('Adj Close')]) # Plotting Apple and Microsoft on the same graph"
      ],
      "metadata": {
        "colab": {
          "base_uri": "https://localhost:8080/",
          "height": 300
        },
        "id": "xm6opRce_iji",
        "outputId": "db9dfead-f621-40cd-b78a-2ae48f3f7adb"
      },
      "execution_count": null,
      "outputs": [
        {
          "output_type": "execute_result",
          "data": {
            "text/plain": [
              "[<matplotlib.lines.Line2D at 0x7f0b21918dd0>,\n",
              " <matplotlib.lines.Line2D at 0x7f0b21482790>]"
            ]
          },
          "metadata": {},
          "execution_count": 28
        },
        {
          "output_type": "display_data",
          "data": {
            "image/png": "[encoded data removed]",
            "text/plain": [
              "<Figure size 432x288 with 1 Axes>"
            ]
          },
          "metadata": {
            "needs_background": "light"
          }
        }
      ]
    },
    {
      "cell_type": "markdown",
      "source": [
        "Nice, but its missing some axes, a legend, and a title. It's also quite small... Let's fix that!"
      ],
      "metadata": {
        "id": "NfOr6RWOAAeI"
      }
    },
    {
      "cell_type": "code",
      "source": [
        "# Change the size of our plot\n",
        "plt.figure(figsize=(15, 8))\n",
        "\n",
        "# Add title and axis names\n",
        "plt.title('AAPL and MSFT Adj Close Price over Time',fontsize=20)\n",
        "plt.xlabel('Date',fontsize=14)\n",
        "plt.ylabel('Adjusted Close',fontsize=14)\n",
        "\n",
        "# Plotting the two seperate lines with their own labels\n",
        "plt.plot(data.loc[:,('Adj Close','AAPL')], \"-b\", label=\"AAPL\") # \"-b\" = blue color\n",
        "plt.plot(data.loc[:,('Adj Close','MSFT')], \"-g\", label=\"MSFT\") # \"-g\" = green color\n",
        "\n",
        "# Plot the legend\n",
        "plt.legend()"
      ],
      "metadata": {
        "colab": {
          "base_uri": "https://localhost:8080/",
          "height": 539
        },
        "id": "Rtm7Xs7Q_28O",
        "outputId": "d4e5e25b-c008-4a39-e06c-e59ef6087a32"
      },
      "execution_count": null,
      "outputs": [
        {
          "output_type": "execute_result",
          "data": {
            "text/plain": [
              "<matplotlib.legend.Legend at 0x7f0b2080dfd0>"
            ]
          },
          "metadata": {},
          "execution_count": 46
        },
        {
          "output_type": "display_data",
          "data": {
            "image/png": "[encoded data removed]",
            "text/plain": [
              "<Figure size 1080x576 with 1 Axes>"
            ]
          },
          "metadata": {
            "needs_background": "light"
          }
        }
      ]
    },
    {
      "cell_type": "markdown",
      "source": [
        "Nice! That looks pretty good! Now let's move on to the backtest."
      ],
      "metadata": {
        "id": "zrefjKt5BJD9"
      }
    },
    {
      "cell_type": "markdown",
      "source": [
        "# 4. How to backtest"
      ],
      "metadata": {
        "id": "4Qnz7AlcBfAu"
      }
    },
    {
      "cell_type": "markdown",
      "source": [
        "Alright, the idea of a backtest is simple. You want to test how your strategy would perform on past data. Thus, the real challenge is coding your strategy and not really testing it. However, I leave the finding of the strategy to you but will simply show you how to test it :)\n",
        "\n",
        "For this example, **let's assume we have a strategy that buys on the first day using our entire capital ($100,000). We then sell everything 21 trading days later. 7 trading days later, we buy as much as we can again and keep it for 21 trading days. We repeat this strategy perpetually.**"
      ],
      "metadata": {
        "id": "LXtne2tNBhDe"
      }
    },
    {
      "cell_type": "code",
      "source": [
        "import math\n",
        "\n",
        "days = 0 # It is important to keep track of the number of days for our strategy\n",
        "capital = 100000 # Our starting capital is 100,000. It is important to track this as time progresses so we can see our performance\n",
        "shares_bought = 0 # To help us keep track if our last action was a buy or sell, and how many we bought\n",
        "portfolio_value = np.array([])\n",
        "\n",
        "# We will loop through each trading day in our test\n",
        "for adj_close in aapl.loc[:,'Adj Close']:\n",
        "\n",
        "  # Buy condition (buy every 7 days if we have not bought yet)\n",
        "  if days % 7 == 0 and shares_bought == 0:\n",
        "\n",
        "    # Check how many shares we can buy\n",
        "    buy_price = adj_close # We are buying at the current price\n",
        "    max_shares = capital / buy_price # Max shares we can buy\n",
        "    shares_bought = math.floor(max_shares) # I assume fractional shares are not allowed and so I round down here\n",
        "\n",
        "    # Remember to update the capital\n",
        "    capital = (max_shares - shares_bought) * adj_close\n",
        "\n",
        "    print(f'Bought {shares_bought} shares at a price of {buy_price} per share.')\n",
        "\n",
        "  # Sell condition (sell 28 days after having bought)\n",
        "  elif days % 28 == 0 and shares_bought > 0:\n",
        "\n",
        "    # We need to sell the number of shares we bought\n",
        "    sell_price = adj_close \n",
        "    shares_sold = shares_bought # Our strategy involves buying and sell everything\n",
        "    value = sell_price * shares_sold\n",
        "\n",
        "    # Remember to update the capital and shares bought\n",
        "    capital += value\n",
        "    shares_bought = 0\n",
        "\n",
        "    print(f'Sold {shares_sold} shares at a price of {sell_price} per share.')\n",
        "    print(f'The value of our portfolio is now ${round(capital)}.\\n')\n",
        "\n",
        "  # We also want to keep track of the Portfolio value at every timestamp\n",
        "  ## We define Portfolio value = Capital + Value of stocks held\n",
        "  portfolio = capital + ( shares_bought * adj_close )\n",
        "  portfolio_value = np.append(portfolio_value,portfolio)\n",
        "\n",
        "  # Increment the number of days as we have just looped through a row now\n",
        "  days += 1"
      ],
      "metadata": {
        "colab": {
          "base_uri": "https://localhost:8080/"
        },
        "id": "Yl49zUqfCKeR",
        "outputId": "13aacb65-1c27-4a7e-a1a5-8502f0563968"
      },
      "execution_count": null,
      "outputs": [
        {
          "output_type": "stream",
          "name": "stdout",
          "text": [
            "Bought 3663 shares at a price of 27.297698974609375 per share.\n",
            "Sold 3663 shares at a price of 31.461767196655273 per share.\n",
            "The value of our portfolio is now $115253.\n",
            "\n",
            "Bought 3576 shares at a price of 32.22653579711914 per share.\n",
            "Sold 3576 shares at a price of 33.196659088134766 per share.\n",
            "The value of our portfolio is now $118722.\n",
            "\n",
            "Bought 3474 shares at a price of 34.171512603759766 per share.\n",
            "Sold 3474 shares at a price of 34.586936950683594 per share.\n",
            "The value of our portfolio is now $120165.\n",
            "\n",
            "Bought 3256 shares at a price of 36.90311813354492 per share.\n",
            "Sold 3256 shares at a price of 34.40499496459961 per share.\n",
            "The value of our portfolio is now $112031.\n",
            "\n",
            "Bought 3231 shares at a price of 34.67044448852539 per share.\n",
            "Sold 3231 shares at a price of 36.201560974121094 per share.\n",
            "The value of our portfolio is now $116978.\n",
            "\n",
            "Bought 3172 shares at a price of 36.872310638427734 per share.\n",
            "Sold 3172 shares at a price of 39.03488540649414 per share.\n",
            "The value of our portfolio is now $123838.\n",
            "\n",
            "Bought 3259 shares at a price of 37.98793029785156 per share.\n",
            "Sold 3259 shares at a price of 37.119415283203125 per share.\n",
            "The value of our portfolio is now $121008.\n",
            "\n",
            "Bought 3256 shares at a price of 37.15987014770508 per share.\n",
            "Sold 3256 shares at a price of 41.34589385986328 per share.\n",
            "The value of our portfolio is now $134637.\n",
            "\n",
            "Bought 3296 shares at a price of 40.846805572509766 per share.\n",
            "Sold 3296 shares at a price of 41.12858963012695 per share.\n",
            "The value of our portfolio is now $135566.\n",
            "\n",
            "Bought 3205 shares at a price of 42.289154052734375 per share.\n",
            "Sold 3205 shares at a price of 39.40446853637695 per share.\n",
            "The value of our portfolio is now $126321.\n",
            "\n",
            "Bought 3001 shares at a price of 42.080345153808594 per share.\n",
            "Sold 3001 shares at a price of 41.425758361816406 per share.\n",
            "The value of our portfolio is now $124356.\n",
            "\n",
            "Bought 3001 shares at a price of 41.432945251464844 per share.\n",
            "Sold 3001 shares at a price of 44.077667236328125 per share.\n",
            "The value of our portfolio is now $132293.\n",
            "\n",
            "Bought 2947 shares at a price of 44.875850677490234 per share.\n",
            "Sold 2947 shares at a price of 45.925289154052734 per share.\n",
            "The value of our portfolio is now $135386.\n",
            "\n",
            "Bought 3087 shares at a price of 43.848060607910156 per share.\n",
            "Sold 3087 shares at a price of 46.892906188964844 per share.\n",
            "The value of our portfolio is now $144785.\n",
            "\n",
            "Bought 2892 shares at a price of 50.06290054321289 per share.\n",
            "Sold 2892 shares at a price of 55.158695220947266 per share.\n",
            "The value of our portfolio is now $159522.\n",
            "\n",
            "Bought 2916 shares at a price of 54.68769454956055 per share.\n",
            "Sold 2916 shares at a price of 53.64906692504883 per share.\n",
            "The value of our portfolio is now $156494.\n",
            "\n",
            "Bought 2908 shares at a price of 53.7988166809082 per share.\n",
            "Sold 2908 shares at a price of 42.84890365600586 per share.\n",
            "The value of our portfolio is now $124651.\n",
            "\n",
            "Bought 2782 shares at a price of 44.79769515991211 per share.\n"
          ]
        }
      ]
    },
    {
      "cell_type": "markdown",
      "source": [
        "The code above is longer than need be for such a simple strategy but I have tried to code it in a way you may need to code yours. **Let's look at our return.**"
      ],
      "metadata": {
        "id": "w26of2UUIBKr"
      }
    },
    {
      "cell_type": "code",
      "source": [
        "# Let's take a look at our portfolio value for the first 5 trading days\n",
        "portfolio_value[:5]"
      ],
      "metadata": {
        "colab": {
          "base_uri": "https://localhost:8080/"
        },
        "id": "n4mLyLO_JAxU",
        "outputId": "d77e2a3e-5b90-4c77-f274-5b94a570207d"
      },
      "execution_count": null,
      "outputs": [
        {
          "output_type": "execute_result",
          "data": {
            "text/plain": [
              "array([100000.        ,  99888.05341911, 100395.98753738, 101515.13196182,\n",
              "       102444.890131  ])"
            ]
          },
          "metadata": {},
          "execution_count": 31
        }
      ]
    },
    {
      "cell_type": "code",
      "source": [
        "# Let's calculate our return from the first to the last day of our trading strategy\n",
        "perc_return = ((portfolio_value[-1] / portfolio_value[0]) - 1) * 100\n",
        "print(f'We made a return of {round(perc_return,2)}% by trading AAPL across {len(aapl.index)} trading days!')"
      ],
      "metadata": {
        "colab": {
          "base_uri": "https://localhost:8080/"
        },
        "id": "aBMN0EfNK515",
        "outputId": "2e8b428d-3f7d-4ce6-feaf-8a8062dee1df"
      },
      "execution_count": null,
      "outputs": [
        {
          "output_type": "stream",
          "name": "stdout",
          "text": [
            "We made a return of 6.39% by trading AAPL across 502 trading days!\n"
          ]
        }
      ]
    },
    {
      "cell_type": "markdown",
      "source": [
        "**Let's take a look at how to plot our portfolio's performance over time.**"
      ],
      "metadata": {
        "id": "JKciAhzDLxGO"
      }
    },
    {
      "cell_type": "code",
      "source": [
        "# Change the size of our plot\n",
        "plt.figure(figsize=(15, 8))\n",
        "\n",
        "# Add title and axis names\n",
        "plt.title('Portfolio Value',fontsize=20)\n",
        "plt.xlabel('Date',fontsize=14)\n",
        "plt.ylabel('Value = Capital + Value of Open Positions',fontsize=14)\n",
        "\n",
        "# Plotting the data (X = dates, Y = portfolio_value)\n",
        "plt.plot(data.index, portfolio_value)"
      ],
      "metadata": {
        "colab": {
          "base_uri": "https://localhost:8080/",
          "height": 539
        },
        "id": "TiD4hBIXL1T6",
        "outputId": "f413ea0f-33d4-40c5-fff0-3bace1e7eabe"
      },
      "execution_count": null,
      "outputs": [
        {
          "output_type": "execute_result",
          "data": {
            "text/plain": [
              "[<matplotlib.lines.Line2D at 0x7f0b207ad150>]"
            ]
          },
          "metadata": {},
          "execution_count": 47
        },
        {
          "output_type": "display_data",
          "data": {
            "image/png": "[encoded data removed]",
            "text/plain": [
              "<Figure size 1080x576 with 1 Axes>"
            ]
          },
          "metadata": {
            "needs_background": "light"
          }
        }
      ]
    },
    {
      "cell_type": "markdown",
      "source": [
        "It seems our strategy started by performing very well (because Apple's share pricing was rising at that time) and then does bad when Apple falls. A better strategy would have a better buy signal to avoid trying to buy when the share price is expected to fall. Determining when it will fall however is the tricky part!"
      ],
      "metadata": {
        "id": "AWYmlps4MPE8"
      }
    },
    {
      "cell_type": "markdown",
      "source": [
        "Anyways, **let's see how our strategy compares to simply buying and holding Apple** for the duration we are testing. In a buy and hold strategy, we buy as many shares as we can on the first day and then just hold that forever. "
      ],
      "metadata": {
        "id": "QuT85p-CMk32"
      }
    },
    {
      "cell_type": "code",
      "source": [
        "# Buy and hold\n",
        "starting_capital = 100000 # USD\n",
        "buy_price = aapl.loc[:,'Adj Close'][0] # Price on the first day\n",
        "\n",
        "shares_bought = math.floor(starting_capital / buy_price)"
      ],
      "metadata": {
        "id": "o65nHbB2N0jk"
      },
      "execution_count": null,
      "outputs": []
    },
    {
      "cell_type": "markdown",
      "source": [
        "Our portfolio value from buy and hold on a given day is then simply the shares bought (a constant) multiplied by the price of a share on that given day (variable). **Let's plot this!**"
      ],
      "metadata": {
        "id": "dV_xSRN-OMib"
      }
    },
    {
      "cell_type": "code",
      "source": [
        "# Change the size of our plot\n",
        "plt.figure(figsize=(15, 8))\n",
        "\n",
        "# Add title and axis names\n",
        "plt.title('AAPL and MSFT Adj Close Price over Time',fontsize=20)\n",
        "plt.xlabel('Date',fontsize=14)\n",
        "plt.ylabel('Portfolio Value',fontsize=14)\n",
        "\n",
        "# Plotting the two seperate lines with their own labels\n",
        "plt.plot(data.index, portfolio_value, label = 'Our Strategy')\n",
        "plt.plot(data.index, shares_bought * aapl.loc[:,'Adj Close'].values, label = 'Buy and Hold')\n",
        "\n",
        "# Plot the legend\n",
        "plt.legend()"
      ],
      "metadata": {
        "colab": {
          "base_uri": "https://localhost:8080/",
          "height": 539
        },
        "id": "XzE_4tYxMsD5",
        "outputId": "c01e6c2b-3d44-42be-c10e-5c624f5305a7"
      },
      "execution_count": null,
      "outputs": [
        {
          "output_type": "execute_result",
          "data": {
            "text/plain": [
              "<matplotlib.legend.Legend at 0x7f0b2087d690>"
            ]
          },
          "metadata": {},
          "execution_count": 45
        },
        {
          "output_type": "display_data",
          "data": {
            "image/png": "[encoded data removed]",
            "text/plain": [
              "<Figure size 1080x576 with 1 Axes>"
            ]
          },
          "metadata": {
            "needs_background": "light"
          }
        }
      ]
    },
    {
      "cell_type": "markdown",
      "source": [
        "Unsurprisingly, our strategy does well when Apple does well and does bad when Apple does bad. However, it did not even beat a buy-and-hold strategy which is of course bad (and even worse when you take into account trading fees)."
      ],
      "metadata": {
        "id": "hAuLPUkKLxNd"
      }
    },
    {
      "cell_type": "markdown",
      "source": [
        "# 5. Calculating Sharpe Ratio"
      ],
      "metadata": {
        "id": "xcp7w8UgOyc6"
      }
    },
    {
      "cell_type": "markdown",
      "source": [
        "The Sharpe ratio is an important ratio in finance and trading as it measures *both* return and risk. It is the most well-known *risk-adjusted return* metric. You can read more about it [here](https://www.investopedia.com/terms/s/sharperatio.asp).\n",
        "\n",
        "**The formula used to calculate the Sharpe ratio is:**\n",
        "\n",
        "Sharpe ratio = (Mean portfolio return - Risk free rate) / (Standard deviation of portfolio returns)\n",
        "\n",
        "For our purposes we will **assume the risk free rate is 0%. We must then annualize our Sharpe ratio. If using daily returns, do the following:**\n",
        "\n",
        "Annualized sharpe ratio = Square root of 252 * Sharpe ratio"
      ],
      "metadata": {
        "id": "b-n-sAtaO7P8"
      }
    },
    {
      "cell_type": "code",
      "source": [
        "# Finding our mean portfolio return\n",
        "\n",
        "## First calculate the daily % return on our portfolio\n",
        "pct_change = pd.Series(portfolio_value).pct_change(1) ### We transform our numpy array into a pandas series to be able to easily calculate % change\n",
        "pct_change"
      ],
      "metadata": {
        "colab": {
          "base_uri": "https://localhost:8080/"
        },
        "id": "gTaFkFmlO1hc",
        "outputId": "871c4ec1-c424-4c1f-fbdd-60a800b85f68"
      },
      "execution_count": null,
      "outputs": [
        {
          "output_type": "execute_result",
          "data": {
            "text/plain": [
              "0           NaN\n",
              "1     -0.001119\n",
              "2      0.005085\n",
              "3      0.011147\n",
              "4      0.009159\n",
              "         ...   \n",
              "497   -0.025868\n",
              "498    0.070404\n",
              "499   -0.006488\n",
              "500    0.000512\n",
              "501    0.009663\n",
              "Length: 502, dtype: float64"
            ]
          },
          "metadata": {},
          "execution_count": 36
        }
      ]
    },
    {
      "cell_type": "code",
      "source": [
        "## Now calculate the mean return\n",
        "daily_mean_return = pct_change.mean()\n",
        "daily_mean_return"
      ],
      "metadata": {
        "colab": {
          "base_uri": "https://localhost:8080/"
        },
        "id": "OcG1TX5rO2UO",
        "outputId": "ff763519-1039-40c8-9294-44c3f3108692"
      },
      "execution_count": null,
      "outputs": [
        {
          "output_type": "execute_result",
          "data": {
            "text/plain": [
              "0.00021148020488885792"
            ]
          },
          "metadata": {},
          "execution_count": 37
        }
      ]
    },
    {
      "cell_type": "code",
      "source": [
        "# We now need the volatility (which is measured as standard deviation of the returns)\n",
        "std = pct_change.std()\n",
        "std"
      ],
      "metadata": {
        "colab": {
          "base_uri": "https://localhost:8080/"
        },
        "id": "6RqYg-5XVdom",
        "outputId": "1a5a0c30-fd1d-4ff9-a9e5-30617e00fe17"
      },
      "execution_count": null,
      "outputs": [
        {
          "output_type": "execute_result",
          "data": {
            "text/plain": [
              "0.01324845379589748"
            ]
          },
          "metadata": {},
          "execution_count": 38
        }
      ]
    },
    {
      "cell_type": "markdown",
      "source": [
        "We can now calculate the Sharpe ratio!"
      ],
      "metadata": {
        "id": "7ozB3z3TVtz6"
      }
    },
    {
      "cell_type": "code",
      "source": [
        "sharpe = daily_mean_return / std\n",
        "round(sharpe,3)"
      ],
      "metadata": {
        "colab": {
          "base_uri": "https://localhost:8080/"
        },
        "id": "vOBG_tKAVvu4",
        "outputId": "7fadebda-f175-490f-f331-64e55e94c273"
      },
      "execution_count": null,
      "outputs": [
        {
          "output_type": "execute_result",
          "data": {
            "text/plain": [
              "0.016"
            ]
          },
          "metadata": {},
          "execution_count": 39
        }
      ]
    },
    {
      "cell_type": "markdown",
      "source": [
        "And the annualized Sharpe ratio."
      ],
      "metadata": {
        "id": "6byijSEYV04N"
      }
    },
    {
      "cell_type": "code",
      "source": [
        "annualized_sharpe = (252 ** 0.5) * sharpe ## '**' is how you do exponents in Python\n",
        "round(annualized_sharpe,3)"
      ],
      "metadata": {
        "colab": {
          "base_uri": "https://localhost:8080/"
        },
        "id": "j_6IBVWTO2Ws",
        "outputId": "d602bce1-cd99-4548-d04d-661a11614c87"
      },
      "execution_count": null,
      "outputs": [
        {
          "output_type": "execute_result",
          "data": {
            "text/plain": [
              "0.253"
            ]
          },
          "metadata": {},
          "execution_count": 40
        }
      ]
    },
    {
      "cell_type": "markdown",
      "source": [
        "A Sharpe ratio value of 0.253 is very bad. Clearly our simple strategy could use some improvement!\n",
        "\n",
        "**According to [Investopedia](https://www.investopedia.com/ask/answers/010815/what-good-sharpe-ratio.asp#:~:text=So%20what%20is%20considered%20a,or%20higher%20is%20considered%20excellent.):**\n",
        "* Usually, any Sharpe ratio greater than 1.0 is considered acceptable to good by investors.\n",
        "* A ratio higher than 2.0 is rated as very good.\n",
        "* A ratio of 3.0 or higher is considered excellent.\n",
        "* A ratio under 1.0 is considered sub-optimal."
      ],
      "metadata": {
        "id": "xHlI6OvaWcUv"
      }
    },
    {
      "cell_type": "markdown",
      "source": [
        "If you are still confused on calculating the Sharpe ratio in Python, I recommend reading [this guide](https://towardsdatascience.com/calculating-sharpe-ratio-with-python-755dcb346805)."
      ],
      "metadata": {
        "id": "OfHrpKnjUZ7S"
      }
    },
    {
      "cell_type": "markdown",
      "source": [
        "# 6. Calculating the Max Drawdown"
      ],
      "metadata": {
        "id": "nEQBCcrzO2cZ"
      }
    },
    {
      "cell_type": "markdown",
      "source": [
        "The maximum drawdown (MDD) is the max % loss that you had on your portfolio between a peak and a subsequent trough. As an exercise, try to find where the maximum drawdown was on our plot in Part 4.\n",
        "\n",
        "We can find our maximum drawdown as follows. Credit to [here](https://stackoverflow.com/questions/36750571/calculate-max-draw-down-with-a-vectorized-solution-in-python) for this wonderful code. "
      ],
      "metadata": {
        "id": "-j8ghxRuYWtQ"
      }
    },
    {
      "cell_type": "code",
      "source": [
        "df_returns = pd.DataFrame(pd.Series(portfolio_value).pct_change(1)) # Create a dataframe with the daily percentage returns on our portfolio\n",
        "cum_returns = (1 + df_returns).cumprod() # Cumulative return (done by multipling sucessive returns eg. 1.01 * 1.03 = a cumulative return of 1.0403)\n",
        "drawdown =  1 - cum_returns.div(cum_returns.cummax()) # Invert the plot"
      ],
      "metadata": {
        "id": "u_nXMh7RO5pE"
      },
      "execution_count": null,
      "outputs": []
    },
    {
      "cell_type": "markdown",
      "source": [
        "We can look at our cumulative return over time. Its quite an interesting plot."
      ],
      "metadata": {
        "id": "eCShnvJpf2rN"
      }
    },
    {
      "cell_type": "code",
      "source": [
        "# Change the size of our plot\n",
        "plt.figure(figsize=(15, 8))\n",
        "\n",
        "# Add title and axis names\n",
        "plt.title('Cumulative return of our strategy on Apple',fontsize=18)\n",
        "plt.xlabel('Date',fontsize=14)\n",
        "plt.ylabel('Cumulative % Return',fontsize=14)\n",
        "\n",
        "# Plotting the two seperate lines with their own labels\n",
        "plt.plot(data.index, cum_returns.values)"
      ],
      "metadata": {
        "colab": {
          "base_uri": "https://localhost:8080/",
          "height": 538
        },
        "id": "o7IZ52Uyf6pu",
        "outputId": "3f7df72d-f5d1-4443-b76c-0161124b59b7"
      },
      "execution_count": null,
      "outputs": [
        {
          "output_type": "execute_result",
          "data": {
            "text/plain": [
              "[<matplotlib.lines.Line2D at 0x7f0b2134c810>]"
            ]
          },
          "metadata": {},
          "execution_count": 42
        },
        {
          "output_type": "display_data",
          "data": {
            "image/png": "[encoded data removed]",
            "text/plain": [
              "<Figure size 1080x576 with 1 Axes>"
            ]
          },
          "metadata": {
            "needs_background": "light"
          }
        }
      ]
    },
    {
      "cell_type": "markdown",
      "source": [
        "**Nice, now lets look at our drawdown across tiem.**"
      ],
      "metadata": {
        "id": "8NICDLy0gSk6"
      }
    },
    {
      "cell_type": "code",
      "source": [
        "# Change the size of our plot\n",
        "plt.figure(figsize=(15, 8))\n",
        "\n",
        "# Add title and axis names\n",
        "plt.title('Drawdown over time',fontsize=18)\n",
        "plt.xlabel('Date',fontsize=14)\n",
        "plt.ylabel('Drawdown',fontsize=14)\n",
        "\n",
        "# Plotting the two seperate lines with their own labels\n",
        "plt.plot(data.index, drawdown.values)"
      ],
      "metadata": {
        "colab": {
          "base_uri": "https://localhost:8080/",
          "height": 538
        },
        "id": "gpitQ0ikXsUC",
        "outputId": "d093ad38-2f31-427c-9cbc-b2f2c20d5d82"
      },
      "execution_count": null,
      "outputs": [
        {
          "output_type": "execute_result",
          "data": {
            "text/plain": [
              "[<matplotlib.lines.Line2D at 0x7f0b2143cad0>]"
            ]
          },
          "metadata": {},
          "execution_count": 43
        },
        {
          "output_type": "display_data",
          "data": {
            "image/png": "[encoded data removed]",
            "text/plain": [
              "<Figure size 1080x576 with 1 Axes>"
            ]
          },
          "metadata": {
            "needs_background": "light"
          }
        }
      ]
    },
    {
      "cell_type": "markdown",
      "source": [
        "It should be now fairly obvious where the *maximum* drawdown is. Hint: on the right-side of the plot.\n",
        "\n",
        "**Let's calculate our MDD, which is a metric that will be checked in the competition.**"
      ],
      "metadata": {
        "id": "yA1OSqAIgfZV"
      }
    },
    {
      "cell_type": "code",
      "source": [
        "MDD = drawdown.max()*100\n",
        "\n",
        "print(f'The maximum drawdown (MDD) is approximately {int(round(MDD))}%.')"
      ],
      "metadata": {
        "colab": {
          "base_uri": "https://localhost:8080/"
        },
        "id": "C7mZn-xGYQ2F",
        "outputId": "507e86d1-6303-4a43-8772-eda97eea827e"
      },
      "execution_count": null,
      "outputs": [
        {
          "output_type": "stream",
          "name": "stdout",
          "text": [
            "The maximum drawdown (MDD) is approximately 39%.\n"
          ]
        }
      ]
    },
    {
      "cell_type": "markdown",
      "source": [
        "# Conclusion"
      ],
      "metadata": {
        "id": "Eeod7TDJhm5d"
      }
    },
    {
      "cell_type": "markdown",
      "source": [
        "And that's it! We're done! Hope you found this guide useful and best of luck testing your automated trading strategies!\n",
        "\n",
        "If you want more guides like this follow me on my socials 😀\n",
        "\n",
        "*   LinkedIn: https://www.linkedin.com/in/alex-pharaon/\n",
        "*   Medium: https://medium.com/@alexpharaon02\n",
        "*   GitHub: https://github.com/alexpharaon"
      ],
      "metadata": {
        "id": "iCJESDzrhqAX"
      }
    }
  ]
}